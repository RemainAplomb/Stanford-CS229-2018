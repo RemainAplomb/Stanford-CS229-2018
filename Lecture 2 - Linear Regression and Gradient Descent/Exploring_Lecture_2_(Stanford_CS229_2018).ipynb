{
  "nbformat": 4,
  "nbformat_minor": 0,
  "metadata": {
    "colab": {
      "provenance": [],
      "collapsed_sections": [
        "3frDSYeFTCXJ",
        "j7SGjxjJYj65",
        "LVR8oVVpbi4f",
        "8xL2hVc1aM0r",
        "9uu9kjQXclRA"
      ]
    },
    "kernelspec": {
      "name": "python3",
      "display_name": "Python 3"
    },
    "language_info": {
      "name": "python"
    }
  },
  "cells": [
    {
      "cell_type": "markdown",
      "source": [
        "# Lecture 2: Linear Regression and Gradient"
      ],
      "metadata": {
        "id": "nab7tMogR6-q"
      }
    },
    {
      "cell_type": "markdown",
      "source": [
        "## Info\n",
        "    Notes by: Rahmani Dibansa\n",
        "    Notebook Environment: Google Colab (Python 3.10)\n",
        "    Github: https://github.com/RemainAplomb\n",
        "    Retrieved from: https://www.youtube.com/watch?v=4b4MUYve_U8&list=PLoROMvodv4rMiGQp3WXShtMGgzqpfVfbU&index=3"
      ],
      "metadata": {
        "id": "K29eZR5nR3Gy"
      }
    },
    {
      "cell_type": "markdown",
      "source": [
        "## Gradient Descent (Linear Regression)"
      ],
      "metadata": {
        "id": "3frDSYeFTCXJ"
      }
    },
    {
      "cell_type": "code",
      "execution_count": 8,
      "metadata": {
        "colab": {
          "base_uri": "https://localhost:8080/"
        },
        "id": "VNWS8CV_R0Au",
        "outputId": "a5d76470-d24d-4a2e-88bd-473b12063a28"
      },
      "outputs": [
        {
          "output_type": "stream",
          "name": "stdout",
          "text": [
            "================================================\n",
            "\n",
            " Iteration: 0\n",
            " theta: [[1.62659787]\n",
            " [1.90615902]]\n",
            " gradients: [[-13.49166094]\n",
            " [-16.1905652 ]]\n",
            "================================================\n",
            "\n",
            " Iteration: 100\n",
            " theta: [[4.26321645]\n",
            " [2.86319945]]\n",
            " gradients: [[-0.01768371]\n",
            " [ 0.01407017]]\n",
            "================================================\n",
            "\n",
            " Iteration: 200\n",
            " theta: [[4.31761848]\n",
            " [2.8199141 ]]\n",
            " gradients: [[-0.00083784]\n",
            " [ 0.00066663]]\n",
            "================================================\n",
            "\n",
            " Iteration: 300\n",
            " theta: [[4.32019599]\n",
            " [2.81786329]]\n",
            " gradients: [[-3.96958029e-05]\n",
            " [ 3.15842380e-05]]\n",
            "================================================\n",
            "\n",
            " Iteration: 400\n",
            " theta: [[4.32031811]\n",
            " [2.81776612]]\n",
            " gradients: [[-1.88074601e-06]\n",
            " [ 1.49642847e-06]]\n",
            "================================================\n",
            "\n",
            " Iteration: 500\n",
            " theta: [[4.3203239 ]\n",
            " [2.81776152]]\n",
            " gradients: [[-8.91077986e-08]\n",
            " [ 7.08992288e-08]]\n",
            "================================================\n",
            "\n",
            " Iteration: 600\n",
            " theta: [[4.32032417]\n",
            " [2.8177613 ]]\n",
            " gradients: [[-4.22183500e-09]\n",
            " [ 3.35913204e-09]]\n",
            "================================================\n",
            "\n",
            " Iteration: 700\n",
            " theta: [[4.32032419]\n",
            " [2.81776129]]\n",
            " gradients: [[-2.00026742e-10]\n",
            " [ 1.59151627e-10]]\n",
            "================================================\n",
            "\n",
            " Iteration: 800\n",
            " theta: [[4.32032419]\n",
            " [2.81776129]]\n",
            " gradients: [[-9.47864898e-12]\n",
            " [ 7.53920704e-12]]\n",
            "================================================\n",
            "\n",
            " Iteration: 900\n",
            " theta: [[4.32032419]\n",
            " [2.81776129]]\n",
            " gradients: [[-4.48592274e-13]\n",
            " [ 3.57844865e-13]]\n"
          ]
        }
      ],
      "source": [
        "import numpy as np\n",
        "import matplotlib.pyplot as plt\n",
        "\n",
        "# Generate a sample dataset\n",
        "X = 2 * np.random.rand(100, 1)  # Generate 100 random values between 0 and 2\n",
        "y = 4 + 3 * X + np.random.randn(100, 1)  # Add some random noise to the target variable\n",
        "\n",
        "# Add a column of ones to X for the bias term\n",
        "X_b = np.c_[np.ones((100, 1)), X]\n",
        "\n",
        "# Perform gradient descent\n",
        "eta = 0.1  # Learning rate\n",
        "n_iterations = 1000\n",
        "m = 100  # Number of training examples\n",
        "\n",
        "theta = np.random.randn(2, 1)  # Random initialization of theta\n",
        "\n",
        "# This line calculates the gradients of the cost function with respect to each parameter\n",
        "# X_b represents the augmented feature matrix, which includes a column of ones at the beginning to account for the bias term.\n",
        "# X_b.dot(theta) - y calculates the difference between the predicted values (obtained by multiplying X_b with theta) and the actual target values y.\n",
        "# X_b.T.dot(...) performs the dot product of the transposed augmented feature matrix with the difference vector. This results in a vector of partial derivatives for each parameter theta.\n",
        "# 2/m is a scaling factor to normalize the gradients. The factor of 2 comes from the derivative of the squared difference loss function.\n",
        "for iteration in range(n_iterations):\n",
        "    gradients = 2/m * X_b.T.dot(X_b.dot(theta) - y)\n",
        "    theta = theta - eta * gradients\n",
        "    if iteration % 100 == 0:\n",
        "      print(\"================================================\\n\")\n",
        "      print(f\" Iteration: {iteration}\" )\n",
        "      print(f\" theta: {theta}\" )\n",
        "      print(f\" gradients: {gradients}\")"
      ]
    },
    {
      "cell_type": "markdown",
      "source": [
        "Theta0 represents the parameter or coefficient associated with the bias term or intercept in the linear regression equation. \n",
        "It determines the offset or baseline prediction of the model when all other features are zero. In other words, it represents \n",
        "the value of the target variable when all input features have no effect.\n",
        "\n",
        "theta1 represents the parameter or coefficient associated with the first input feature (in a univariate case) or the slope of \n",
        "the linear regression line. It determines the relationship or impact of the input feature on the predicted target variable. \n",
        "It quantifies how the target variable changes as the input feature changes.\n",
        "\n",
        "In general, if you have n input features in your linear regression model, you will have n + 1 parameters (Theta0, theta1, \n",
        "theta2, ..., theta_n) corresponding to the bias term and the coefficients for each input feature.\n",
        "\n",
        "During the training process, the goal of the learning algorithm is to find the optimal values for these parameters (Theta0, \n",
        "theta1, theta2, ..., theta_n) that minimize the difference between the predicted values and the actual target values. \n",
        "Gradient descent, as discussed earlier, is one of the methods to update these parameters iteratively based on the \n",
        "calculated gradients.\n",
        "\n",
        "In summary, Theta0 represents the bias term or intercept, and theta1 represents the coefficient associated with the first \n",
        "input feature in a linear regression model. They collectively determine the shape and behavior of the linear regression \n",
        "line and help in predicting the target variable based on the input features.\n",
        "\n",
        "You can think of Theta0 as a constant or an intercept term in linear regression. It represents the baseline prediction \n",
        "or the expected value of the target variable when all the input features have zero effect.\n",
        "\n",
        "In a linear regression model, the relationship between the input features and the target variable is represented by a \n",
        "line (in the case of simple linear regression) or a hyperplane (in the case of multiple linear regression). The equation \n",
        "of this line or hyperplane is defined by the coefficients or parameters (Theta0, theta1, theta2, ..., theta_n) associated \n",
        "with the features.\n",
        "\n",
        "When all the input features have zero effect, the prediction or value of the target variable can be considered as the baseline or the starting point. This baseline value is captured by the Theta0 parameter, which is added as a constant term in the linear regression equation.\n",
        "\n",
        "\n",
        "For example, in a simple linear regression model with one input feature x and one target variable y, the linear regression equation can be written as:\n",
        "```\n",
        "y = Theta0 + theta1 * x\n",
        "```\n",
        "\n",
        "Here, Theta0 represents the intercept term or the value of y when x is zero. It accounts for the constant offset in the linear relationship between x and y.\n",
        "\n",
        "In the case of multiple linear regression, where you have multiple input features (x1, x2, ..., x_n) and one target variable y, the linear regression equation becomes:\n",
        "\n",
        "```\n",
        "y = Theta0 + theta1 * x1 + theta2 * x2 + ... + theta_n * x_n\n",
        "```\n",
        "\n",
        "Again, Theta0 represents the intercept term or the baseline value of y when all the input features (x1, x2, ..., x_n) are zero.\n",
        "\n",
        "By adjusting the values of Theta0 and the other coefficients (theta1, theta2, ..., theta_n), the linear regression model can be fit to the training data and make predictions on new data points.\n",
        "\n",
        "\n",
        "Basically, we add the Theta0 so that we know where we will start in the gradient"
      ],
      "metadata": {
        "id": "5W0ivVdsW3vp"
      }
    },
    {
      "cell_type": "code",
      "source": [
        "# Print the final values of theta\n",
        "print(\"================================================\\n\")\n",
        "print(\" Result\")\n",
        "print(\" Theta0:\", theta[0][0])\n",
        "print(\" Theta1:\", theta[1][0])\n",
        "print(\"\\n================================================\\n\")\n",
        "\n",
        "# Plot the dataset and the learned linear regression line\n",
        "plt.scatter(X, y)\n",
        "plt.plot(X, X_b.dot(theta), color='red')\n",
        "plt.xlabel(\"X\")\n",
        "plt.ylabel(\"y\")\n",
        "plt.title(\"Linear Regression with Gradient Descent\")\n",
        "plt.show()\n"
      ],
      "metadata": {
        "colab": {
          "base_uri": "https://localhost:8080/",
          "height": 611
        },
        "id": "lUZwkv69UwJo",
        "outputId": "d3c963c7-87eb-4abf-ed15-fc4557dd4afc"
      },
      "execution_count": 10,
      "outputs": [
        {
          "output_type": "stream",
          "name": "stdout",
          "text": [
            "================================================\n",
            "\n",
            " Result\n",
            " Theta0: 4.3203241861033606\n",
            " Theta1: 2.817761287083375\n",
            "\n",
            "================================================\n",
            "\n"
          ]
        },
        {
          "output_type": "display_data",
          "data": {
            "text/plain": [
              "<Figure size 640x480 with 1 Axes>"
            ],
            "image/png": "[encoded data removed]"
          },
          "metadata": {}
        }
      ]
    },
    {
      "cell_type": "markdown",
      "source": [
        "## Batch Gradient Descent (Simplified)"
      ],
      "metadata": {
        "id": "j7SGjxjJYj65"
      }
    },
    {
      "cell_type": "code",
      "source": [
        "import numpy as np\n",
        "import matplotlib.pyplot as plt\n",
        "\n",
        "# Generate some random data for demonstration\n",
        "np.random.seed(42)\n",
        "X = 2 * np.random.rand(100, 1)  # Generate 100 random values between 0 and 2\n",
        "y = 4 + 3 * X + np.random.randn(100, 1)  # Add some random noise to the data\n",
        "\n",
        "# Add a column of 1s to X for the intercept term\n",
        "X_b = np.c_[np.ones((100, 1)), X]\n",
        "\n",
        "# Set the learning rate and number of iterations\n",
        "eta = 0.1  # Learning rate\n",
        "n_iterations = 1000\n",
        "\n",
        "# Initialize theta with random values\n",
        "theta = np.random.randn(2, 1)\n",
        "\n",
        "# Batch Gradient Descent\n",
        "for iteration in range(n_iterations):\n",
        "    gradients = 2 / len(X) * X_b.T.dot(X_b.dot(theta) - y)\n",
        "    theta = theta - eta * gradients\n",
        "\n",
        "# Print the final values of theta\n",
        "print(\"================================================\\n\")\n",
        "print(\" Result\")\n",
        "print(\" Theta0:\", theta[0][0])\n",
        "print(\" Theta1:\", theta[1][0])\n",
        "print(\"\\n================================================\\n\")\n",
        "\n",
        "# Plot the dataset and the learned linear regression line\n",
        "plt.scatter(X, y)\n",
        "plt.plot(X, X_b.dot(theta), color='red')\n",
        "plt.xlabel(\"X\")\n",
        "plt.ylabel(\"y\")\n",
        "plt.title(\"Batch Gradient Descent\")\n",
        "plt.show()"
      ],
      "metadata": {
        "colab": {
          "base_uri": "https://localhost:8080/",
          "height": 611
        },
        "id": "3qze9z1LY1e7",
        "outputId": "963328e2-b6f8-4bd9-db16-3264928c9982"
      },
      "execution_count": 17,
      "outputs": [
        {
          "output_type": "stream",
          "name": "stdout",
          "text": [
            "================================================\n",
            "\n",
            " Result\n",
            " Theta0: 4.215096157546739\n",
            " Theta1: 2.7701133864384917\n",
            "\n",
            "================================================\n",
            "\n"
          ]
        },
        {
          "output_type": "display_data",
          "data": {
            "text/plain": [
              "<Figure size 640x480 with 1 Axes>"
            ],
            "image/png": "[encoded data removed]"
          },
          "metadata": {}
        }
      ]
    },
    {
      "cell_type": "markdown",
      "source": [
        "## Batch Gradient Descent (Traditional)"
      ],
      "metadata": {
        "id": "LVR8oVVpbi4f"
      }
    },
    {
      "cell_type": "code",
      "source": [
        "import numpy as np\n",
        "import matplotlib.pyplot as plt\n",
        "\n",
        "# Generate some random data for demonstration\n",
        "np.random.seed(42)\n",
        "X = 2 * np.random.rand(100, 1)  # Generate 100 random values between 0 and 2\n",
        "y = 4 + 3 * X + np.random.randn(100, 1)  # Add some random noise to the data\n",
        "\n",
        "# Add a column of 1s to X for the intercept term\n",
        "X_b = np.c_[np.ones((100, 1)), X]\n",
        "\n",
        "# Set the learning rate and number of epochs\n",
        "eta = 0.1  # Learning rate\n",
        "n_epochs = 50\n",
        "\n",
        "# Initialize theta with random values\n",
        "theta = np.random.randn(2, 1)\n",
        "\n",
        "# Batch Gradient Descent\n",
        "for epoch in range(n_epochs):\n",
        "    gradients = np.zeros((2, 1))\n",
        "    for i in range(len(X)):\n",
        "        X_i = X_b[i:i+1]  # Take one training example at a time\n",
        "        y_i = y[i:i+1]\n",
        "        gradients += 2 * X_i.T.dot(X_i.dot(theta) - y_i)  # Accumulate gradients for each training example\n",
        "        #print(\"================================================\\n\")\n",
        "        #print(\" Gradients: \", gradients)\n",
        "    gradients /= len(X)  # Take average of gradients\n",
        "    theta = theta - eta * gradients  # Update theta using learning rate and gradients\n",
        "    print(\"================================================\\n\")\n",
        "    print(\" theta: \", theta)\n"
      ],
      "metadata": {
        "colab": {
          "base_uri": "https://localhost:8080/"
        },
        "id": "XbffsHjTbpCv",
        "outputId": "7dac6681-6b26-4dc1-bae5-5d8d1221dead"
      },
      "execution_count": 24,
      "outputs": [
        {
          "output_type": "stream",
          "name": "stdout",
          "text": [
            "================================================\n",
            "\n",
            " theta:  [[1.10103284]\n",
            " [2.5689581 ]]\n",
            "================================================\n",
            "\n",
            " theta:  [[1.76167724]\n",
            " [3.20430202]]\n",
            "================================================\n",
            "\n",
            " theta:  [[2.17070217]\n",
            " [3.55850018]]\n",
            "================================================\n",
            "\n",
            " theta:  [[2.43130725]\n",
            " [3.74830359]]\n",
            "================================================\n",
            "\n",
            " theta:  [[2.60409456]\n",
            " [3.84222284]]\n",
            "================================================\n",
            "\n",
            " theta:  [[2.72466079]\n",
            " [3.88045243]]\n",
            "================================================\n",
            "\n",
            " theta:  [[2.81392385]\n",
            " [3.88656613]]\n",
            "================================================\n",
            "\n",
            " theta:  [[2.88418448]\n",
            " [3.87438216]]\n",
            "================================================\n",
            "\n",
            " theta:  [[2.94268445]\n",
            " [3.85199292]]\n",
            "================================================\n",
            "\n",
            " theta:  [[2.99369522]\n",
            " [3.82413043]]\n",
            "================================================\n",
            "\n",
            " theta:  [[3.039744  ]\n",
            " [3.79355481]]\n",
            "================================================\n",
            "\n",
            " theta:  [[3.08233345]\n",
            " [3.76186927]]\n",
            "================================================\n",
            "\n",
            " theta:  [[3.12236419]\n",
            " [3.72999852]]\n",
            "================================================\n",
            "\n",
            " theta:  [[3.16038278]\n",
            " [3.69846951]]\n",
            "================================================\n",
            "\n",
            " theta:  [[3.19672739]\n",
            " [3.66757628]]\n",
            "================================================\n",
            "\n",
            " theta:  [[3.23161323]\n",
            " [3.63747665]]\n",
            "================================================\n",
            "\n",
            " theta:  [[3.26518282]\n",
            " [3.608249  ]]\n",
            "================================================\n",
            "\n",
            " theta:  [[3.29753539]\n",
            " [3.57992555]]\n",
            "================================================\n",
            "\n",
            " theta:  [[3.32874431]\n",
            " [3.5525119 ]]\n",
            "================================================\n",
            "\n",
            " theta:  [[3.3588672 ]\n",
            " [3.52599845]]\n",
            "================================================\n",
            "\n",
            " theta:  [[3.38795195]\n",
            " [3.50036716]]\n",
            "================================================\n",
            "\n",
            " theta:  [[3.41604028]\n",
            " [3.47559544]]\n",
            "================================================\n",
            "\n",
            " theta:  [[3.44316983]\n",
            " [3.4516584 ]]\n",
            "================================================\n",
            "\n",
            " theta:  [[3.46937536]\n",
            " [3.42853024]]\n",
            "================================================\n",
            "\n",
            " theta:  [[3.49468955]\n",
            " [3.406185  ]]\n",
            "================================================\n",
            "\n",
            " theta:  [[3.51914342]\n",
            " [3.38459697]]\n",
            "================================================\n",
            "\n",
            " theta:  [[3.54276663]\n",
            " [3.36374097]]\n",
            "================================================\n",
            "\n",
            " theta:  [[3.56558763]\n",
            " [3.34359244]]\n",
            "================================================\n",
            "\n",
            " theta:  [[3.58763381]\n",
            " [3.32412755]]\n",
            "================================================\n",
            "\n",
            " theta:  [[3.60893156]\n",
            " [3.3053232 ]]\n",
            "================================================\n",
            "\n",
            " theta:  [[3.62950634]\n",
            " [3.28715702]]\n",
            "================================================\n",
            "\n",
            " theta:  [[3.64938272]\n",
            " [3.2696074 ]]\n",
            "================================================\n",
            "\n",
            " theta:  [[3.66858442]\n",
            " [3.25265343]]\n",
            "================================================\n",
            "\n",
            " theta:  [[3.68713436]\n",
            " [3.23627489]]\n",
            "================================================\n",
            "\n",
            " theta:  [[3.70505465]\n",
            " [3.22045227]]\n",
            "================================================\n",
            "\n",
            " theta:  [[3.72236668]\n",
            " [3.20516671]]\n",
            "================================================\n",
            "\n",
            " theta:  [[3.7390911 ]\n",
            " [3.19039996]]\n",
            "================================================\n",
            "\n",
            " theta:  [[3.75524785]\n",
            " [3.17613444]]\n",
            "================================================\n",
            "\n",
            " theta:  [[3.7708562 ]\n",
            " [3.16235312]]\n",
            "================================================\n",
            "\n",
            " theta:  [[3.78593476]\n",
            " [3.14903957]]\n",
            "================================================\n",
            "\n",
            " theta:  [[3.80050152]\n",
            " [3.13617791]]\n",
            "================================================\n",
            "\n",
            " theta:  [[3.81457386]\n",
            " [3.12375281]]\n",
            "================================================\n",
            "\n",
            " theta:  [[3.82816854]\n",
            " [3.11174944]]\n",
            "================================================\n",
            "\n",
            " theta:  [[3.84130178]\n",
            " [3.1001535 ]]\n",
            "================================================\n",
            "\n",
            " theta:  [[3.85398926]\n",
            " [3.08895115]]\n",
            "================================================\n",
            "\n",
            " theta:  [[3.86624608]\n",
            " [3.07812904]]\n",
            "================================================\n",
            "\n",
            " theta:  [[3.87808689]\n",
            " [3.06767425]]\n",
            "================================================\n",
            "\n",
            " theta:  [[3.88952579]\n",
            " [3.05757433]]\n",
            "================================================\n",
            "\n",
            " theta:  [[3.90057642]\n",
            " [3.04781722]]\n",
            "================================================\n",
            "\n",
            " theta:  [[3.91125197]\n",
            " [3.03839129]]\n"
          ]
        }
      ]
    },
    {
      "cell_type": "code",
      "source": [
        "# Print the final values of theta\n",
        "print(\"================================================\\n\")\n",
        "print(\" Result\")\n",
        "print(\" Theta0:\", theta[0][0])\n",
        "print(\" Theta1:\", theta[1][0])\n",
        "print(\"\\n================================================\\n\")\n",
        "\n",
        "# Plot the dataset and the learned linear regression line\n",
        "plt.scatter(X, y)\n",
        "plt.plot(X, X_b.dot(theta), color='red')\n",
        "plt.xlabel(\"X\")\n",
        "plt.ylabel(\"y\")\n",
        "plt.title(\"Batch Gradient Descent\")\n",
        "plt.show()"
      ],
      "metadata": {
        "colab": {
          "base_uri": "https://localhost:8080/",
          "height": 611
        },
        "id": "DhACGnEsb4vs",
        "outputId": "3cad9c05-3858-459d-e69e-418771f17a97"
      },
      "execution_count": 21,
      "outputs": [
        {
          "output_type": "stream",
          "name": "stdout",
          "text": [
            "================================================\n",
            "\n",
            " Result\n",
            " Theta0: 3.9112519702012665\n",
            " Theta1: 3.03839128845035\n",
            "\n",
            "================================================\n",
            "\n"
          ]
        },
        {
          "output_type": "display_data",
          "data": {
            "text/plain": [
              "<Figure size 640x480 with 1 Axes>"
            ],
            "image/png": "[encoded data removed]"
          },
          "metadata": {}
        }
      ]
    },
    {
      "cell_type": "markdown",
      "source": [
        "## Stochastic Gradient Descent"
      ],
      "metadata": {
        "id": "8xL2hVc1aM0r"
      }
    },
    {
      "cell_type": "code",
      "source": [
        "import numpy as np\n",
        "import matplotlib.pyplot as plt\n",
        "\n",
        "# Generate some random data for demonstration\n",
        "np.random.seed(42)\n",
        "X = 2 * np.random.rand(100, 1)  # Generate 100 random values between 0 and 2\n",
        "y = 4 + 3 * X + np.random.randn(100, 1)  # Add some random noise to the data\n",
        "\n",
        "# Add a column of 1s to X for the intercept term\n",
        "X_b = np.c_[np.ones((100, 1)), X]\n",
        "\n",
        "# Set the learning rate and number of epochs\n",
        "eta = 0.1  # Learning rate\n",
        "n_epochs = 50\n",
        "\n",
        "# Initialize theta with random values\n",
        "theta = np.random.randn(2, 1)\n",
        "\n",
        "# Stochastic Gradient Descent\n",
        "for epoch in range(n_epochs):\n",
        "    for i in range(len(X)):\n",
        "        random_index = np.random.randint(len(X))  # Randomly select an index\n",
        "        xi = X_b[random_index:random_index+1]  # Get a single random training example\n",
        "        yi = y[random_index:random_index+1]  # Corresponding target value\n",
        "        gradients = 2 * xi.T.dot(xi.dot(theta) - yi)  # Calculate gradients\n",
        "        theta = theta - eta * gradients  # Update theta using learning rate and gradients\n",
        "\n",
        "# Print the final values of theta\n",
        "print(\"================================================\\n\")\n",
        "print(\" Result\")\n",
        "print(\" Theta0:\", theta[0][0])\n",
        "print(\" Theta1:\", theta[1][0])\n",
        "print(\"\\n================================================\\n\")\n",
        "\n",
        "# Plot the dataset and the learned linear regression line\n",
        "plt.scatter(X, y)\n",
        "plt.plot(X, X_b.dot(theta), color='red')\n",
        "plt.xlabel(\"X\")\n",
        "plt.ylabel(\"y\")\n",
        "plt.title(\"Stochastic Gradient Descent\")\n",
        "plt.show()\n"
      ],
      "metadata": {
        "colab": {
          "base_uri": "https://localhost:8080/",
          "height": 611
        },
        "id": "lTVDGl73aQDD",
        "outputId": "7083d2f2-d2d9-48e2-e7dc-35329733bb37"
      },
      "execution_count": 18,
      "outputs": [
        {
          "output_type": "stream",
          "name": "stdout",
          "text": [
            "================================================\n",
            "\n",
            " Result\n",
            " Theta0: 4.33483995003201\n",
            " Theta1: 2.436580516437006\n",
            "\n",
            "================================================\n",
            "\n"
          ]
        },
        {
          "output_type": "display_data",
          "data": {
            "text/plain": [
              "<Figure size 640x480 with 1 Axes>"
            ],
            "image/png": "[encoded data removed]"
          },
          "metadata": {}
        }
      ]
    },
    {
      "cell_type": "markdown",
      "source": [
        "## Normal Equation (Linear Regression)"
      ],
      "metadata": {
        "id": "9uu9kjQXclRA"
      }
    },
    {
      "cell_type": "markdown",
      "source": [
        "We compute the parameters theta by applying the normal equation formula: theta = (X^T * X)^(-1) * X^T * y. The np.linalg.inv function calculates the inverse of a matrix, and the dot function performs matrix multiplication.\n",
        "\n",
        "The normal equation provides an analytical solution, which can be advantageous for small to moderate-sized datasets. However, it becomes computationally expensive for large datasets, as the matrix inverse operation can be time-consuming. In such cases, gradient descent or other optimization algorithms are more suitable."
      ],
      "metadata": {
        "id": "3gqEhBjkdBe7"
      }
    },
    {
      "cell_type": "markdown",
      "source": [
        "X_b.T: Transpose of the design matrix X_b. The design matrix X_b is obtained by adding a column of 1s to the feature matrix X. Transposing X_b flips its rows and columns.\n",
        "\n",
        "X_b.T.dot(X_b): Matrix multiplication between the transposed design matrix X_b.T and the original design matrix X_b. This multiplication results in a square matrix of shape (n+1) x (n+1), where n is the number of features (including the intercept term).\n",
        "\n",
        "np.linalg.inv(X_b.T.dot(X_b)): The np.linalg.inv function calculates the inverse of the matrix X_b.T.dot(X_b). The inverse is used to solve a system of linear equations.\n",
        "\n",
        "X_b.T.dot(X_b).dot(X_b.T): Matrix multiplication between the inverted matrix np.linalg.inv(X_b.T.dot(X_b)) and the transposed design matrix X_b.T. This multiplication results in a matrix of shape (n+1) x m, where m is the number of training examples.\n",
        "\n",
        "X_b.T.dot(X_b).dot(X_b.T).dot(y): Matrix multiplication between the matrix X_b.T.dot(X_b).dot(X_b.T) and the target variable vector y. This multiplication results in a vector of shape (n+1), which contains the estimated coefficients or parameters for the linear regression model.\n",
        "\n",
        "In summary, the expression theta = np.linalg.inv(X_b.T.dot(X_b)).dot(X_b.T).dot(y) calculates the parameters theta by performing a sequence of matrix operations on the design matrix X_b and the target variable vector y. The final result is a vector of estimated coefficients, where theta[0] represents the intercept term and theta[1:] represent the coefficients for the features."
      ],
      "metadata": {
        "id": "gaN_LoQOdKX4"
      }
    },
    {
      "cell_type": "markdown",
      "source": [
        "In the context of the code snippet theta = np.linalg.inv(X_b.T.dot(X_b)).dot(X_b.T).dot(y), X_b refers to the design matrix with the added column of 1s.\n",
        "\n",
        "To clarify, let's recall that the design matrix X is formed by stacking the feature matrix X (containing the input features) with an additional column of 1s. The additional column of 1s corresponds to the intercept term in the linear regression model.\n",
        "\n",
        "So, X_b is the design matrix with the added column of 1s, and it has the shape (m, n+1), where m is the number of training examples and n is the number of features.\n",
        "\n",
        "In the context of the code, X_b is used to perform matrix operations to estimate the parameters theta in the normal equation."
      ],
      "metadata": {
        "id": "mZOuvQMTeQMv"
      }
    },
    {
      "cell_type": "markdown",
      "source": [
        " The \"+1\" in the design matrix X_b is not related to the starting value of theta. It represents the additional column of 1s that is added to the feature matrix X to account for the intercept term.\n",
        "\n",
        "In linear regression, the intercept term is the value of the dependent variable when all the independent variables are set to zero. By adding a column of 1s to the feature matrix, we introduce a corresponding coefficient (theta) that represents the intercept term. This allows the linear regression model to estimate the y-intercept of the regression line.\n",
        "\n",
        "To clarify further, the design matrix X_b has the shape (m, n+1), where m is the number of training examples and n is the number of features. The additional column of 1s in X_b corresponds to the intercept term, and the remaining columns represent the values of the independent variables.\n",
        "\n",
        "So, the \"+1\" in the design matrix X_b is not the starting value of theta, but rather it represents the intercept term in the linear regression model."
      ],
      "metadata": {
        "id": "SJJ01CA5fBov"
      }
    },
    {
      "cell_type": "markdown",
      "source": [
        "In the design matrix X_b, there is one column dedicated to the intercept term, and the remaining columns represent the features.\n",
        "\n",
        "Let's say you have n features in your dataset. The design matrix X_b will have n+1 columns. The first column is filled with 1s, representing the intercept term, and the remaining n columns correspond to the values of the n features.\n",
        "\n",
        "Here's an example to illustrate this:\n",
        "\n",
        "Suppose you have a dataset with 100 training examples and 3 features. The design matrix X_b will have a shape of (100, 4) - 100 rows (for the training examples) and 4 columns (1 column for the intercept term + 3 columns for the features).\n",
        "\n",
        "The first column of X_b will be filled with 1s, and the remaining 3 columns will contain the values of the 3 features.\n",
        "\n",
        "This augmented design matrix X_b allows us to perform matrix operations in the normal equation to estimate the parameters theta that minimize the sum of squared errors in the linear regression model."
      ],
      "metadata": {
        "id": "XOJAG_gWfCI3"
      }
    },
    {
      "cell_type": "markdown",
      "source": [
        "So in summary, we have a matrix of X first, and then we add a column to that matrix (X_b) for the intercept term which will correspond to Theta0. After that we will transpose the matrix (X_b.T), where the columns will become rows, and the rows will become columns. After that we will take the inverse of the product of the transposed matrix(X_b.T) with the original matrix (X_b). Then, the resulting inverted matrix will be multiplied with the transposed matrix (X_b.T). Lastly, we will multiply it with the target variable vector which corresponds to the  label/groundtruth (y)"
      ],
      "metadata": {
        "id": "n4cQ_oOghC8X"
      }
    },
    {
      "cell_type": "markdown",
      "source": [
        "Here's a step-by-step breakdown:\n",
        "\n",
        "Start with the feature matrix X.\n",
        "\n",
        "- Augment X with a column of 1s to account for the intercept term, resulting in the matrix X_b.\n",
        "\n",
        "- Transpose the augmented matrix X_b, denoted as X_b.T, so that the columns become rows and the rows become columns.\n",
        "\n",
        "- Compute the dot product of X_b.T with X_b, resulting in a square matrix.\n",
        "Take the inverse of the square matrix obtained in step 4 using np.linalg.inv().\n",
        "\n",
        "- Multiply the inverse matrix with X_b.T, resulting in a matrix.\n",
        "\n",
        "- Multiply the matrix obtained in step 6 with the target variable vector y.\n",
        "\n",
        "- The resulting vector will be the parameter vector theta, which contains the estimated coefficients for the linear regression model, including the intercept term.\n",
        "\n",
        "\n",
        "It's important to note that using the normal equation is an alternative approach to finding the optimal parameter values in linear regression. It provides a closed-form solution without the need for iteration or optimization algorithms like gradient descent. However, it may not be suitable for very large datasets due to the computational cost of matrix operations."
      ],
      "metadata": {
        "id": "Hq8KleHrhejP"
      }
    },
    {
      "cell_type": "markdown",
      "source": [
        "Matrix: A matrix is a rectangular array of numbers, where the numbers are arranged in rows and columns. In the case of linear regression, the matrix typically represents the feature matrix, denoted as X. Each row of the matrix represents a training example, and each column represents a feature. The shape of the matrix is (m, n+1), where m is the number of training examples and n+1 is the number of features (including the intercept term). The matrix allows us to store and manipulate the input features in a structured manner.\n",
        "\n",
        "Vector: A vector is a special case of a matrix that has only one dimension, either in the form of a row vector or a column vector. In the context of linear regression, vectors are often used to represent the target variable or the parameter vector theta. For example, the target variable vector y has a shape of (m, 1), where m is the number of training examples. The parameter vector theta has a shape of (n+1, 1), where n+1 is the number of features (including the intercept term). Vectors allow us to represent and manipulate a set of values or parameters efficiently.\n",
        "\n",
        "To summarize, matrices are used to represent the structured data of the feature matrix, while vectors are used to represent target variables or parameter values in linear regression."
      ],
      "metadata": {
        "id": "sb5bj3DUiUaf"
      }
    },
    {
      "cell_type": "code",
      "source": [
        "import numpy as np\n",
        "\n",
        "# Generate some random data for demonstration\n",
        "np.random.seed(42)\n",
        "X = 2 * np.random.rand(100, 1)  # Generate 100 random values between 0 and 2\n",
        "y = 4 + 3 * X + np.random.randn(100, 1)  # Add some random noise to the data\n",
        "\n",
        "# Add a column of 1s to X for the intercept term\n",
        "X_b = np.c_[np.ones((100, 1)), X]\n",
        "\n",
        "# Compute the parameters theta using the normal equation\n",
        "theta = np.linalg.inv(X_b.T.dot(X_b)).dot(X_b.T).dot(y)\n",
        "\n",
        "# Print the final values of theta\n",
        "print(\"================================================\\n\")\n",
        "print(\" Result\")\n",
        "print(\" Theta0:\", theta[0][0])\n",
        "print(\" Theta1:\", theta[1][0])\n",
        "print(\"\\n================================================\\n\")"
      ],
      "metadata": {
        "colab": {
          "base_uri": "https://localhost:8080/"
        },
        "id": "cwLacT4KcpLg",
        "outputId": "9b7fa886-182c-4787-e9bf-a0c302c6a208"
      },
      "execution_count": 25,
      "outputs": [
        {
          "output_type": "stream",
          "name": "stdout",
          "text": [
            "================================================\n",
            "\n",
            " Result\n",
            " Theta0: 4.21509615754675\n",
            " Theta1: 2.7701133864384806\n",
            "\n",
            "================================================\n",
            "\n"
          ]
        }
      ]
    },
    {
      "cell_type": "code",
      "source": [
        "# Plot the dataset and the learned linear regression line\n",
        "plt.scatter(X, y)\n",
        "plt.plot(X, X_b.dot(theta), color='red')\n",
        "plt.xlabel(\"X\")\n",
        "plt.ylabel(\"y\")\n",
        "plt.title(\"Linear Regression (Normal Equation)\")\n",
        "plt.show()\n"
      ],
      "metadata": {
        "colab": {
          "base_uri": "https://localhost:8080/",
          "height": 472
        },
        "id": "OZVqkQ4vcyxP",
        "outputId": "2170cff0-e68c-4919-d29d-42e2a4aee4a2"
      },
      "execution_count": 26,
      "outputs": [
        {
          "output_type": "display_data",
          "data": {
            "text/plain": [
              "<Figure size 640x480 with 1 Axes>"
            ],
            "image/png": "[encoded data removed]"
          },
          "metadata": {}
        }
      ]
    }
  ]
}